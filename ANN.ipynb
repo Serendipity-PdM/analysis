{
 "cells": [
  {
   "cell_type": "code",
   "execution_count": 179,
   "id": "97657f5d",
   "metadata": {},
   "outputs": [],
   "source": [
    "import torch\n",
    "import torch.nn as nn\n",
    "import torch.optim as optim\n",
    "from torch.utils.data import Dataset, DataLoader\n",
    "import pandas as pd\n",
    "import numpy as np\n",
    "from sklearn.preprocessing import MinMaxScaler, StandardScaler\n",
    "\n",
    "import matplotlib.pyplot as plt\n",
    "from pathlib import Path\n",
    "from sklearn.metrics import mean_absolute_error, mean_squared_error, r2_score\n",
    "import numpy as np"
   ]
  },
  {
   "cell_type": "code",
   "execution_count": 180,
   "id": "ff96aa6f",
   "metadata": {},
   "outputs": [
    {
     "name": "stdout",
     "output_type": "stream",
     "text": [
      "Device 0: NVIDIA GeForce RTX 3070 Laptop GPU\n"
     ]
    }
   ],
   "source": [
    "for i in range(torch.cuda.device_count()):\n",
    "    print(f\"Device {i}: {torch.cuda.get_device_name(i)}\")"
   ]
  },
  {
   "cell_type": "code",
   "execution_count": 181,
   "id": "da1cffcf",
   "metadata": {},
   "outputs": [],
   "source": [
    "DATA_PATH = Path(\"datasets/CMaps/\")\n",
    "TRAIN_FILE = DATA_PATH / \"train_FD001.txt\"\n",
    "TEST_FILE = DATA_PATH / \"test_FD001.txt\"\n",
    "RUL_FILE = Path(DATA_PATH / \"RUL_FD001.txt\")"
   ]
  },
  {
   "cell_type": "code",
   "execution_count": 182,
   "id": "21c46369",
   "metadata": {},
   "outputs": [],
   "source": [
    "def load_dataset(path):\n",
    "    col_names = [\"unit\", \"time\", \"os1\", \"os2\", \"os3\"] + [f\"s_{i}\" for i in range(1, 22)]\n",
    "    return pd.read_csv(path, sep=\" \", header=None, names=col_names, usecols=range(26))\n",
    "\n",
    "train_df = load_dataset(TRAIN_FILE)\n",
    "test_df = load_dataset(TEST_FILE)\n",
    "rul_truth = pd.read_csv(RUL_FILE, header=None)[0]\n"
   ]
  },
  {
   "cell_type": "code",
   "execution_count": 183,
   "id": "3c72588a",
   "metadata": {},
   "outputs": [],
   "source": [
    "def add_rul(df):\n",
    "    max_cycle = df.groupby(\"unit\")[\"time\"].max().reset_index()\n",
    "    max_cycle.columns = [\"unit\", \"max\"]\n",
    "    df = df.merge(max_cycle, on=\"unit\", how=\"left\")\n",
    "    df[\"RUL\"] = df[\"max\"] - df[\"time\"]\n",
    "    df.drop(columns=[\"max\"], inplace=True)\n",
    "    return df"
   ]
  },
  {
   "cell_type": "code",
   "execution_count": 184,
   "id": "4abdf39c",
   "metadata": {},
   "outputs": [],
   "source": [
    "train_df = add_rul(train_df)\n",
    "train_df.head()\n",
    "drop_cols = [\"unit\", \"time\", \"s_1\", \"s_5\", \"s_6\", \"s_10\", \"s_16\", \"s_18\", \"s_19\"]\n",
    "train_df = train_df.drop(columns=drop_cols)\n",
    "\n",
    "# Normalize sensor data\n",
    "feature_cols = [col for col in train_df.columns if col != \"RUL\"]\n",
    "scaler = StandardScaler()\n",
    "train_df[feature_cols] = scaler.fit_transform(train_df[feature_cols])\n",
    "\n",
    "# Use last cycle from test data as input\n",
    "test_last = test_df.groupby(\"unit\").last().reset_index()\n",
    "test_last[feature_cols] = scaler.transform(test_last[feature_cols])\n",
    "test_last[\"RUL\"] = rul_truth\n"
   ]
  },
  {
   "cell_type": "code",
   "execution_count": 185,
   "id": "ec50f268",
   "metadata": {},
   "outputs": [],
   "source": [
    "class EngineDataset(Dataset):\n",
    "    def __init__(self, df):\n",
    "        self.X = df[feature_cols].values.astype(np.float32)\n",
    "        self.y = df[\"RUL\"].values.astype(np.float32).reshape(-1, 1)\n",
    "\n",
    "    def __len__(self):\n",
    "        return len(self.X)\n",
    "\n",
    "    def __getitem__(self, idx):\n",
    "        return self.X[idx], self.y[idx]\n",
    "\n",
    "train_dataset = EngineDataset(train_df)\n",
    "test_dataset = EngineDataset(test_last)\n",
    "\n",
    "train_loader = DataLoader(train_dataset, batch_size=256, shuffle=True, pin_memory=True,num_workers=15)\n",
    "test_loader = DataLoader(test_dataset, batch_size=1,pin_memory=True,num_workers=15)\n"
   ]
  },
  {
   "cell_type": "code",
   "execution_count": 188,
   "id": "ab147014",
   "metadata": {},
   "outputs": [],
   "source": [
    "class RULANN(nn.Module):\n",
    "    def __init__(self, input_dim):\n",
    "        super(RULANN, self).__init__()\n",
    "        self.net = nn.Sequential(\n",
    "            nn.Linear(input_dim, 32),\n",
    "            nn.BatchNorm1d(32),\n",
    "            nn.LeakyReLU(0.1),\n",
    "            nn.Dropout(0.2),\n",
    "            nn.Linear(32, 16),\n",
    "            nn.BatchNorm1d(16),\n",
    "            nn.LeakyReLU(0.1),\n",
    "            nn.Linear(16, 1)\n",
    "        )\n",
    "\n",
    "    def forward(self, x):\n",
    "        return self.net(x)\n",
    "    \n",
    "device = torch.device(\"cuda\" if torch.cuda.is_available() else \"cpu\")\n",
    "model = RULANN(input_dim=len(feature_cols)).to(device)\n",
    "criterion = nn.MSELoss()\n",
    "optimizer = optim.Adam(model.parameters(), lr=0.001)"
   ]
  },
  {
   "cell_type": "code",
   "execution_count": 189,
   "id": "6c8461c0",
   "metadata": {},
   "outputs": [
    {
     "name": "stdout",
     "output_type": "stream",
     "text": [
      "Epoch 1, Loss: 1321532.1641\n",
      "Epoch 2, Loss: 1307563.6621\n",
      "Epoch 3, Loss: 1286091.1865\n",
      "Epoch 4, Loss: 1255227.3096\n",
      "Epoch 5, Loss: 1216476.4717\n",
      "Epoch 6, Loss: 1168046.9355\n",
      "Epoch 7, Loss: 1116733.5967\n",
      "Epoch 8, Loss: 1060821.5508\n",
      "Epoch 9, Loss: 1000256.0771\n",
      "Epoch 10, Loss: 937355.9014\n",
      "Epoch 11, Loss: 866170.7998\n",
      "Epoch 12, Loss: 795596.1348\n",
      "Epoch 13, Loss: 726271.4097\n",
      "Epoch 14, Loss: 658709.7837\n",
      "Epoch 15, Loss: 595177.0249\n",
      "Epoch 16, Loss: 535537.5933\n",
      "Epoch 17, Loss: 479623.9468\n",
      "Epoch 18, Loss: 428520.0122\n",
      "Epoch 19, Loss: 382891.2769\n",
      "Epoch 20, Loss: 342895.2378\n"
     ]
    }
   ],
   "source": [
    "EPOCHS = 20\n",
    "patience = 100\n",
    "best_loss = float('inf')\n",
    "trigger_times = 0\n",
    "\n",
    "for epoch in range(EPOCHS):\n",
    "    model.train()\n",
    "    epoch_loss = 0\n",
    "    for inputs, targets in train_loader:\n",
    "        inputs, targets = inputs.to(device), targets.to(device)\n",
    "        outputs = model(inputs)\n",
    "        loss = criterion(outputs, targets)\n",
    "        optimizer.zero_grad()\n",
    "        loss.backward()\n",
    "        optimizer.step()\n",
    "        epoch_loss += loss.item()\n",
    "\n",
    "    print(f\"Epoch {epoch+1}, Loss: {epoch_loss:.4f}\")\n",
    "\n",
    "    # --- Early Stopping Logic ---\n",
    "    if epoch_loss < best_loss - 1e-4:  # small threshold to prevent tiny fluctuations\n",
    "        best_loss = epoch_loss\n",
    "        trigger_times = 0\n",
    "    else:\n",
    "        trigger_times += 1\n",
    "        print(f\"No improvement for {trigger_times} epoch(s)\")\n",
    "        if trigger_times >= patience:\n",
    "            print(f\"Early stopping triggered at epoch {epoch+1}\")\n",
    "            break"
   ]
  },
  {
   "cell_type": "code",
   "execution_count": 190,
   "id": "3973be4d",
   "metadata": {},
   "outputs": [
    {
     "name": "stdout",
     "output_type": "stream",
     "text": [
      "MAE:  28.51\n",
      "RMSE: 33.33\n",
      "R²:   0.3568\n"
     ]
    }
   ],
   "source": [
    "model.eval()\n",
    "preds, targets = [], []\n",
    "with torch.no_grad():\n",
    "    for inputs, target in test_loader:\n",
    "        inputs, target = inputs.to(device), target.to(device)\n",
    "        pred = model(inputs)\n",
    "        preds.append(pred.item())\n",
    "        targets.append(target.item())\n",
    "\n",
    "mae = mean_absolute_error(targets, preds)\n",
    "rmse = np.sqrt(mean_squared_error(targets, preds))\n",
    "r2 = r2_score(targets, preds)\n",
    "\n",
    "print(f\"MAE:  {mae:.2f}\")\n",
    "print(f\"RMSE: {rmse:.2f}\")\n",
    "print(f\"R²:   {r2:.4f}\")"
   ]
  },
  {
   "cell_type": "markdown",
   "id": "67d5809c",
   "metadata": {},
   "source": [
    "already good values with no historical data and low epoch"
   ]
  },
  {
   "cell_type": "code",
   "execution_count": 191,
   "id": "ea89983e",
   "metadata": {},
   "outputs": [
    {
     "data": {
      "image/png": "[encoded data removed]",
      "text/plain": [
       "<Figure size 1400x600 with 1 Axes>"
      ]
     },
     "metadata": {},
     "output_type": "display_data"
    }
   ],
   "source": [
    "plt.figure(figsize=(14, 6))\n",
    "indices = np.arange(len(targets))\n",
    "\n",
    "bar_width = 0.35\n",
    "plt.bar(indices, targets, bar_width, label=\"True RUL\", color='blue')\n",
    "plt.bar(indices + bar_width, preds, bar_width, label=\"Predicted RUL\", color='orange')\n",
    "\n",
    "plt.xlabel(\"Engine Index\")\n",
    "plt.ylabel(\"Remaining Useful Life\")\n",
    "plt.title(\"RUL Prediction - FD001 Test Set\")\n",
    "plt.legend()\n",
    "plt.tight_layout()\n",
    "plt.show()"
   ]
  }
 ],
 "metadata": {
  "kernelspec": {
   "display_name": ".venv",
   "language": "python",
   "name": "python3"
  },
  "language_info": {
   "codemirror_mode": {
    "name": "ipython",
    "version": 3
   },
   "file_extension": ".py",
   "mimetype": "text/x-python",
   "name": "python",
   "nbconvert_exporter": "python",
   "pygments_lexer": "ipython3",
   "version": "3.12.8"
  }
 },
 "nbformat": 4,
 "nbformat_minor": 5
}
